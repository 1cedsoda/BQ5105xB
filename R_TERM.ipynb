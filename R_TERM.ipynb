{
 "cells": [
  {
   "cell_type": "code",
   "execution_count": 48,
   "metadata": {},
   "outputs": [],
   "source": [
    "K_TERM_MIN = 200 # [Ohms] constant\n",
    "K_TERM_TYP = 240 # [Ohms] constant\n",
    "K_TERM_MAX = 280 # [Ohms] constant"
   ]
  },
  {
   "cell_type": "code",
   "execution_count": 60,
   "metadata": {},
   "outputs": [
    {
     "name": "stdout",
     "output_type": "stream",
     "text": [
      "Desired Charging current = 1000 mA\n",
      "Desired Termination current = 83 mA\n",
      "Desired Termination factor = 8.3 %\n",
      "R_TERM = 2000 Ohms\n",
      "Minimum termination factor =  7.1 %\n",
      "Minimum termination current = 71 mA\n",
      "Maximum termination factor =  7.1 %\n",
      "Maximum termination current = 100 mA\n"
     ]
    }
   ],
   "source": [
    "I_BULK = 1.0 # [Ampere] Desired charging current\n",
    "I_TERM_TYP = 0.08335 # [Ampere] Desired Termination current\n",
    "I_TERM_PERCENT = (I_TERM_TYP / I_BULK) * 100\n",
    "print(\"Desired Charging current =\", round(I_BULK * 1000), \"mA\")\n",
    "print(\"Desired Termination current =\", round(I_TERM_TYP * 1000), \"mA\")\n",
    "print(\"Desired Termination factor =\", round(I_TERM_PERCENT, 1), \"%\")\n",
    "\n",
    "R_TERM = K_TERM_TYP * I_TERM_PERCENT\n",
    "print(\"R_TERM =\", round(R_TERM), \"Ohms\")\n",
    "\n",
    "I_TERM_PERCENT_MIN = R_TERM / K_TERM_MAX\n",
    "I_TERM_MIN = I_BULK * (I_TERM_PERCENT_MIN / 100)\n",
    "print(\"Minimum termination factor = \", round(I_TERM_PERCENT_MIN, 1), \"%\")\n",
    "print(\"Minimum termination current =\", round(I_TERM_MIN * 1000), \"mA\")\n",
    "\n",
    "I_TERM_PERCENT_MAX = R_TERM / K_TERM_MIN\n",
    "I_TERM_MAX = I_BULK * (I_TERM_PERCENT_MAX / 100)\n",
    "print(\"Maximum termination factor = \", round(I_TERM_PERCENT_MIN, 1), \"%\")\n",
    "print(\"Maximum termination current =\", round(I_TERM_MAX * 1000), \"mA\")"
   ]
  }
 ],
 "metadata": {
  "kernelspec": {
   "display_name": "Python 3",
   "language": "python",
   "name": "python3"
  },
  "language_info": {
   "codemirror_mode": {
    "name": "ipython",
    "version": 3
   },
   "file_extension": ".py",
   "mimetype": "text/x-python",
   "name": "python",
   "nbconvert_exporter": "python",
   "pygments_lexer": "ipython3",
   "version": "3.11.4"
  },
  "orig_nbformat": 4
 },
 "nbformat": 4,
 "nbformat_minor": 2
}

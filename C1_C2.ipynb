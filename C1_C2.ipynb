{
 "cells": [
  {
   "cell_type": "code",
   "execution_count": 333,
   "metadata": {},
   "outputs": [],
   "source": [
    "import math\n",
    "import random\n",
    "\n",
    "# Constants\n",
    "f_S_TYP = 100000 # [Hz] 100 kHz\n",
    "f_S_MIN = f_S_TYP * 0.9\n",
    "f_S_MAX = f_S_TYP * 1.05\n",
    "\n",
    "f_D_TYP = 1000000 # [Hz] 1 MHz\n",
    "f_D_MIN = f_D_TYP * 0.9\n",
    "f_D_MAX = f_D_TYP * 1.1"
   ]
  },
  {
   "cell_type": "code",
   "execution_count": 334,
   "metadata": {},
   "outputs": [
    {
     "name": "stdout",
     "output_type": "stream",
     "text": [
      "Number of Capacitor Combinations: 14641\n",
      "Target Capacitance: 1.37 uF\n",
      "Capacitor Combination: 680.0 nF + 680.0 nF = 1.36 uF\n"
     ]
    }
   ],
   "source": [
    "def print_capacitance(capacitance):\n",
    "    if capacitance < 1e-9:\n",
    "        return str(round(capacitance*1e12, 2)) + \" pF\"\n",
    "    elif capacitance < 1e-6:\n",
    "        return str(round(capacitance*1e9, 2)) + \" nF\"\n",
    "    else:\n",
    "        return str(round(capacitance*1e6, 2)) + \" uF\"\n",
    "\n",
    "def pretty_capacitors(capacitors):\n",
    "    strings = []\n",
    "    for capacitor in capacitors:\n",
    "        if capacitor != 0:\n",
    "            strings.append(print_capacitance(capacitor))\n",
    "    return \" + \".join(strings) + \" = \" + print_capacitance(sum(capacitors))\n",
    "\n",
    "def generate_capacitors():\n",
    "    standard = [10, 12, 15, 18, 22, 27, 33, 39, 47, 56, 68, 82]\n",
    "    magnitudes = [1e-3, 1e-4, 1e-5, 1e-6, 1e-7, 1e-8, 1e-9, 1e-10, 1e-11, 1e-12] # uF, nF, pF\n",
    "    capacitors = [0]\n",
    "    for mag in magnitudes:\n",
    "        for std in standard:\n",
    "            capacitors.append(std*mag)\n",
    "    return capacitors\n",
    "\n",
    "def generate_capacitor_combos():\n",
    "    capacitors = generate_capacitors()\n",
    "    combos = []\n",
    "    for i in range(len(capacitors)):\n",
    "        for j in range(len(capacitors)):\n",
    "            sum_capacitance = sum([capacitors[i], capacitors[j]])\n",
    "            if len(combos) == 0 or sum_capacitance != combos[-1]:\n",
    "                combos.append([capacitors[i], capacitors[j]])\n",
    "    combos.sort(key=sum)\n",
    "    return combos\n",
    "\n",
    "capacitor_combos_3 = generate_capacitor_combos()\n",
    "# export as csv\n",
    "with open('capacitor_combos.csv', 'w') as f:\n",
    "    f.write(\",\".join([\"C\", \"C1\", \"C2\"]) + \"\\n\")\n",
    "    for combo in capacitor_combos_3:\n",
    "        f.write(str(sum(combo)) + \",\" + \",\".join([str(x) for x in combo]) + \"\\n\")\n",
    "print(\"Number of Capacitor Combinations:\", len(capacitor_combos_3))\n",
    "\n",
    "def select_capacitors(target_capacitance):\n",
    "    best_capacitors = capacitor_combos_3[0]\n",
    "    best_capacitance = sum(best_capacitors)\n",
    "\n",
    "    # bottom up search\n",
    "    for i in range(len(capacitor_combos_3)):\n",
    "        capacitance = sum(capacitor_combos_3[i])\n",
    "        if capacitance > target_capacitance:\n",
    "            continue\n",
    "        if target_capacitance - capacitance < target_capacitance - best_capacitance:\n",
    "            best_capacitors = capacitor_combos_3[i]\n",
    "            best_capacitance = capacitance\n",
    "\n",
    "    best_capacitors.sort()\n",
    "    best_capacitors.reverse()\n",
    "    return best_capacitors\n",
    "\n",
    "target_capacitance = 1372*1e-9\n",
    "print(\"Target Capacitance:\", print_capacitance(target_capacitance))\n",
    "print(\"Capacitor Combination:\", pretty_capacitors(select_capacitors(target_capacitance)))\n"
   ]
  },
  {
   "cell_type": "code",
   "execution_count": 335,
   "metadata": {},
   "outputs": [],
   "source": [
    "# Coil\n",
    "uL_iS =  16 # [uH]\n",
    "uL_S =  11 # [uH]\n",
    "R = 0.191 # [Ohm]"
   ]
  },
  {
   "cell_type": "code",
   "execution_count": 336,
   "metadata": {},
   "outputs": [
    {
     "name": "stdout",
     "output_type": "stream",
     "text": [
      "C_1 = 158.31 nF\n",
      "150.0 nF + 8.2 nF = 158.2 nF\n",
      "C_2 = 2.34 nF\n",
      "2.2 nF + 120.0 pF = 2.32 nF\n",
      "Q = 362 Ω\n"
     ]
    }
   ],
   "source": [
    "# C * 1e12 = pF\n",
    "# C * 1e9 = nF\n",
    "# C * 1e6 = uF\n",
    "\n",
    "L_iS = uL_iS * 1e-6 # [H]\n",
    "L_S = uL_S * 1e-6 # [H]\n",
    "\n",
    "def caclulate_C_1(f_S, L_iS):\n",
    "    C_1 = 1 / ( pow(2 * math.pi * f_S, 2) * L_iS )\n",
    "    return C_1\n",
    "\n",
    "C_1_TYP = caclulate_C_1(f_S_TYP, L_iS)\n",
    "print(\"C_1 =\", print_capacitance(C_1_TYP))\n",
    "print(pretty_capacitors(select_capacitors(C_1_TYP)))\n",
    "\n",
    "def caclulate_C_2(f_D, L_S, C_1):\n",
    "    C_2 = 1 / ( pow(2 * math.pi * f_D, 2) * L_S - (1/C_1) )\n",
    "    return C_2\n",
    "\n",
    "C_2_TYP = caclulate_C_2(f_D_TYP, L_S, C_1_TYP)\n",
    "print(\"C_2 =\", print_capacitance(C_2_TYP))\n",
    "print(pretty_capacitors(select_capacitors(C_2_TYP)))\n",
    "\n",
    "\n",
    "Q = (2 * math.pi * f_D_TYP * L_S) / R\n",
    "print(\"Q =\", round(Q), \"Ω\")"
   ]
  }
 ],
 "metadata": {
  "kernelspec": {
   "display_name": "Python 3",
   "language": "python",
   "name": "python3"
  },
  "language_info": {
   "codemirror_mode": {
    "name": "ipython",
    "version": 3
   },
   "file_extension": ".py",
   "mimetype": "text/x-python",
   "name": "python",
   "nbconvert_exporter": "python",
   "pygments_lexer": "ipython3",
   "version": "3.11.4"
  },
  "orig_nbformat": 4
 },
 "nbformat": 4,
 "nbformat_minor": 2
}

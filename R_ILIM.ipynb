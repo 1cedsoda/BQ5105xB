{
 "cells": [
  {
   "cell_type": "code",
   "execution_count": 54,
   "metadata": {},
   "outputs": [],
   "source": [
    "K_ILIM_MIN = 303 # [Ohms] constant\n",
    "K_ILIM_TYP = 314 # [Ohms] constant\n",
    "K_ILIM_MAX = 321 # [Ohms] constant\n",
    "R_TOL = 0.01 # [%] Resistor tolerance\n",
    "\n",
    "def printChargingCurrent(R_ILIM_TYP):\n",
    "    R_ILIM_MAX = R_ILIM_TYP * (1+R_TOL)\n",
    "    R_ILIM_MIN = R_ILIM_TYP * (1-R_TOL)\n",
    "    \n",
    "    I_BULK_MIN = round(K_ILIM_MIN / R_ILIM_MAX, 2)\n",
    "    I_BULK_TYP = round(K_ILIM_TYP / R_ILIM_TYP, 2)\n",
    "    I_BULK_MAX = round(K_ILIM_MAX / R_ILIM_MIN, 2)\n",
    "    print(\"Minimum I_BULK:\", round(I_BULK_MIN*1000), \"mA\")\n",
    "    print(\"Typical I_BULK:\", round(I_BULK_TYP*1000), \"mA\")\n",
    "    print(\"Maximum I_BULK:\", round(I_BULK_MAX*1000), \"mA\")"
   ]
  },
  {
   "cell_type": "code",
   "execution_count": 55,
   "metadata": {},
   "outputs": [
    {
     "name": "stdout",
     "output_type": "stream",
     "text": [
      "Desired I_BULK = 1000 mA\n",
      "R_ILIM = R_1 + R_FOD = 314 Ω\n",
      "Minimum I_BULK: 960 mA\n",
      "Typical I_BULK: 1000 mA\n",
      "Maximum I_BULK: 1030 mA\n"
     ]
    }
   ],
   "source": [
    "# Given I_BULK\n",
    "I_BULK_TYP = 1.0 # [Ampere] coose yours charging speed (max 1.0 to 1.5 depending on chip)\n",
    "R_ILIM_TYP = K_ILIM_TYP / I_BULK_TYP\n",
    "print(\"Desired I_BULK =\", round(I_BULK_TYP*1000), \"mA\")\n",
    "print(\"R_ILIM = R_1 + R_FOD =\", round(R_ILIM_TYP), \"Ω\")\n",
    "printChargingCurrent(R_ILIM_TYP)"
   ]
  },
  {
   "cell_type": "code",
   "execution_count": 56,
   "metadata": {},
   "outputs": [
    {
     "name": "stdout",
     "output_type": "stream",
     "text": [
      "R_ILIM = R_1 + R_FOD = 310 Ω\n",
      "Minimum I_BULK: 970 mA\n",
      "Typical I_BULK: 1010 mA\n",
      "Maximum I_BULK: 1050 mA\n"
     ]
    }
   ],
   "source": [
    "# Given R_ILIM\n",
    "R_ILIM = round(R_ILIM_TYP, -1) # [Ohms] choose your R_1 + R_FOD resistors\n",
    "I_BULK_TYP = R_ILIM / K_ILIM_TYP\n",
    "print(\"R_ILIM = R_1 + R_FOD =\", round(R_ILIM), \"Ω\")\n",
    "printChargingCurrent(R_ILIM)"
   ]
  }
 ],
 "metadata": {
  "kernelspec": {
   "display_name": "Python 3",
   "language": "python",
   "name": "python3"
  },
  "language_info": {
   "codemirror_mode": {
    "name": "ipython",
    "version": 3
   },
   "file_extension": ".py",
   "mimetype": "text/x-python",
   "name": "python",
   "nbconvert_exporter": "python",
   "pygments_lexer": "ipython3",
   "version": "3.11.4"
  },
  "orig_nbformat": 4
 },
 "nbformat": 4,
 "nbformat_minor": 2
}

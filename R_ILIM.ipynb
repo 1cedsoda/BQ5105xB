{
 "cells": [
  {
   "cell_type": "code",
   "execution_count": 34,
   "metadata": {},
   "outputs": [],
   "source": [
    "K_ILIM_MIN = 303 # [Ohms] constant\n",
    "K_ILIM_TYP = 314 # [Ohms] constant\n",
    "K_ILIM_MAX = 321 # [Ohms] constant\n",
    "R_TOL = 0.01 # [%] Resistor tolerance\n",
    "\n",
    "def printChargingCurrent(R_ILIM):\n",
    "    R_ILIM_MAX = R_ILIM * (1+R_TOL)\n",
    "    R_ILIM_MIN = R_ILIM * (1-R_TOL)\n",
    "    \n",
    "    I_BULK_MIN = round(K_ILIM_MIN / R_ILIM_MAX, 2)\n",
    "    I_BULK_MAX = round(K_ILIM_MAX / R_ILIM_MIN, 2)\n",
    "    print(\"Minimum BAT charging current:\", round(I_BULK_MIN*1000), \"mA\")\n",
    "    print(\"Maximum BAT charging current:\", round(I_BULK_MAX*1000), \"mA\")"
   ]
  },
  {
   "cell_type": "code",
   "execution_count": 35,
   "metadata": {},
   "outputs": [
    {
     "name": "stdout",
     "output_type": "stream",
     "text": [
      "Desired I_BULK = 1000 mA\n",
      "Minimum BAT charging current: 960 mA\n",
      "Maximum BAT charging current: 1030 mA\n"
     ]
    }
   ],
   "source": [
    "# Given I_BULK\n",
    "I_BULK_TYP = 1.0 # [Ampere] coose yours charging speed (max 1.0 to 1.5 depending on chip)\n",
    "R_ILIM = K_ILIM_TYP / I_BULK_TYP\n",
    "print(\"Desired I_BULK =\", round(I_BULK_TYP*1000), \"mA\")\n",
    "printChargingCurrent(R_ILIM)"
   ]
  },
  {
   "cell_type": "code",
   "execution_count": 36,
   "metadata": {},
   "outputs": [
    {
     "name": "stdout",
     "output_type": "stream",
     "text": [
      "Given R_ILIM = R_1 + R_FOD = 320 Ω\n",
      "Minimum BAT charging current: 940 mA\n",
      "Maximum BAT charging current: 1010 mA\n"
     ]
    }
   ],
   "source": [
    "# Given R_ILIM\n",
    "R_ILIM = 320 # [Ohms] choose your R_1 + R_FOD resistors\n",
    "print(\"Given R_ILIM = R_1 + R_FOD =\", round(R_ILIM), \"Ω\")\n",
    "printChargingCurrent(R_ILIM)"
   ]
  }
 ],
 "metadata": {
  "kernelspec": {
   "display_name": "Python 3",
   "language": "python",
   "name": "python3"
  },
  "language_info": {
   "codemirror_mode": {
    "name": "ipython",
    "version": 3
   },
   "file_extension": ".py",
   "mimetype": "text/x-python",
   "name": "python",
   "nbconvert_exporter": "python",
   "pygments_lexer": "ipython3",
   "version": "3.11.4"
  },
  "orig_nbformat": 4
 },
 "nbformat": 4,
 "nbformat_minor": 2
}

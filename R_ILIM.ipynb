{
 "cells": [
  {
   "cell_type": "code",
   "execution_count": 1,
   "metadata": {},
   "outputs": [],
   "source": [
    "K_ILIM_MIN = 303 # [Ohms] constant\n",
    "K_ILIM_TYP = 314 # [Ohms] constant\n",
    "K_ILIM_MAX = 321 # [Ohms] constant\n",
    "\n",
    "def printChargingCurrent(R_ILIM):\n",
    "    \n",
    "    I_BULK_MIN = round(K_ILIM_MIN / R_ILIM, 2)\n",
    "    I_BULK_MAX = round(K_ILIM_MAX / R_ILIM, 2)\n",
    "    print(\"Charging LiPo at\", I_BULK_MIN, \"to\", I_BULK_MAX, \"Ampere\")"
   ]
  },
  {
   "cell_type": "code",
   "execution_count": 2,
   "metadata": {},
   "outputs": [
    {
     "name": "stdout",
     "output_type": "stream",
     "text": [
      "Given I_BULK = 1.0 Ampere\n",
      "Charging LiPo at 0.96 to 1.02 Ampere\n"
     ]
    }
   ],
   "source": [
    "# Given I_BULK\n",
    "I_BULK_TYP = 1.0 # [Ampere] coose yours charging speed (max 1.0 to 1.5 depending on chip)\n",
    "R_ILIM = K_ILIM_TYP / I_BULK_TYP\n",
    "print(\"Given I_BULK =\", I_BULK_TYP, \"Ampere\")\n",
    "printChargingCurrent(R_ILIM)"
   ]
  },
  {
   "cell_type": "code",
   "execution_count": 4,
   "metadata": {},
   "outputs": [
    {
     "name": "stdout",
     "output_type": "stream",
     "text": [
      "Given R_ILIM = 320 Ohm\n",
      "Charging LiPo at 0.95 to 1.0 Ampere\n"
     ]
    }
   ],
   "source": [
    "# Given R_ILIM\n",
    "R_ILIM = 320 # [Ohm] choose yours resistor\n",
    "print(\"Given R_ILIM =\", R_ILIM, \"Ohm\")\n",
    "printChargingCurrent(R_ILIM)"
   ]
  }
 ],
 "metadata": {
  "kernelspec": {
   "display_name": "Python 3",
   "language": "python",
   "name": "python3"
  },
  "language_info": {
   "codemirror_mode": {
    "name": "ipython",
    "version": 3
   },
   "file_extension": ".py",
   "mimetype": "text/x-python",
   "name": "python",
   "nbconvert_exporter": "python",
   "pygments_lexer": "ipython3",
   "version": "3.11.4"
  },
  "orig_nbformat": 4
 },
 "nbformat": 4,
 "nbformat_minor": 2
}
